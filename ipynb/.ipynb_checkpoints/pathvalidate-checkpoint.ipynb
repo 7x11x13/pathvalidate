{
 "cells": [
  {
   "cell_type": "code",
   "execution_count": 6,
   "metadata": {
    "collapsed": true
   },
   "outputs": [],
   "source": [
    "import pathvalidate\n",
    "\n",
    "filename = \"a*b:c<d>e%f(g)h+i.txt\""
   ]
  },
  {
   "cell_type": "code",
   "execution_count": 7,
   "metadata": {
    "collapsed": false
   },
   "outputs": [
    {
     "name": "stdout",
     "output_type": "stream",
     "text": [
      "invalid filename!\n"
     ]
    }
   ],
   "source": [
    "try:\n",
    "    pathvalidate.validate_filename(filename)\n",
    "except ValueError:\n",
    "    print(\"invalid filename!\")"
   ]
  },
  {
   "cell_type": "code",
   "execution_count": 8,
   "metadata": {
    "collapsed": false
   },
   "outputs": [
    {
     "name": "stdout",
     "output_type": "stream",
     "text": [
      "abcde%f(g)h+i.txt\n"
     ]
    }
   ],
   "source": [
    "print(pathvalidate.sanitize_filename(filename))"
   ]
  },
  {
   "cell_type": "code",
   "execution_count": 9,
   "metadata": {
    "collapsed": false
   },
   "outputs": [
    {
     "name": "stdout",
     "output_type": "stream",
     "text": [
      "abcdefgh+itxt\n"
     ]
    }
   ],
   "source": [
    "print(pathvalidate.replace_symbol(filename))"
   ]
  }
 ],
 "metadata": {
  "kernelspec": {
   "display_name": "Python 2",
   "language": "python",
   "name": "python2"
  },
  "language_info": {
   "codemirror_mode": {
    "name": "ipython",
    "version": 2
   },
   "file_extension": ".py",
   "mimetype": "text/x-python",
   "name": "python",
   "nbconvert_exporter": "python",
   "pygments_lexer": "ipython2",
   "version": "2.7.10"
  }
 },
 "nbformat": 4,
 "nbformat_minor": 0
}
