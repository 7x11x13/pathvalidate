{
 "cells": [
  {
   "cell_type": "code",
   "execution_count": 1,
   "metadata": {},
   "outputs": [],
   "source": [
    "name = \"\\0_a*b:c<d>e%f/(g)h+i_0.txt\""
   ]
  },
  {
   "cell_type": "code",
   "execution_count": 2,
   "metadata": {},
   "outputs": [
    {
     "name": "stdout",
     "output_type": "stream",
     "text": [
      "invalid filename!\n"
     ]
    }
   ],
   "source": [
    "from pathvalidate import validate_filename\n",
    "\n",
    "try:\n",
    "    validate_filename(\"\\0_a*b:c<d>e%f/(g)h+i_0.txt\")\n",
    "except ValueError:\n",
    "    print(\"invalid filename!\")"
   ]
  },
  {
   "cell_type": "code",
   "execution_count": 3,
   "metadata": {},
   "outputs": [
    {
     "name": "stdout",
     "output_type": "stream",
     "text": [
      "invalid file path!\n"
     ]
    }
   ],
   "source": [
    "from pathvalidate import validate_filepath\n",
    "\n",
    "try:\n",
    "    validate_filepath(\"\\0_a*b:c<d>e%f/(g)h+i_0.txt\")\n",
    "except ValueError:\n",
    "    print(\"invalid file path!\")"
   ]
  },
  {
   "cell_type": "code",
   "execution_count": 4,
   "metadata": {},
   "outputs": [
    {
     "name": "stdout",
     "output_type": "stream",
     "text": [
      "fi:l*e/p\"a?t>h|.t<xt -> filepath.txt\n",
      "\u0000_a*b:c<d>e%f/(g)h+i_0.txt -> _abcde%f(g)h+i_0.txt\n"
     ]
    }
   ],
   "source": [
    "from pathvalidate import sanitize_filename\n",
    "\n",
    "fname = \"fi:l*e/p\\\"a?t>h|.t<xt\"\n",
    "print(\"{} -> {}\".format(fname, sanitize_filename(fname)))\n",
    "\n",
    "fname = \"\\0_a*b:c<d>e%f/(g)h+i_0.txt\"\n",
    "print(\"{} -> {}\".format(fname, sanitize_filename(fname)))"
   ]
  },
  {
   "cell_type": "code",
   "execution_count": 5,
   "metadata": {},
   "outputs": [
    {
     "name": "stdout",
     "output_type": "stream",
     "text": [
      "'fi:l*e/p\"a?t>h|.t<xt' is a invalid filename\n",
      "'filepath.txt' is a valid filename\n"
     ]
    }
   ],
   "source": [
    "from pathvalidate import is_valid_filename, sanitize_filename\n",
    "\n",
    "fname = \"fi:l*e/p\\\"a?t>h|.t<xt\"\n",
    "print(\"'{}' is a {} filename\".format(fname, \"valid\" if is_valid_filename(fname) else \"invalid\"))\n",
    "\n",
    "fname = sanitize_filename(fname)\n",
    "print(\"'{}' is a {} filename\".format(fname, \"valid\" if is_valid_filename(fname) else \"invalid\"))"
   ]
  },
  {
   "cell_type": "code",
   "execution_count": 6,
   "metadata": {},
   "outputs": [
    {
     "name": "stdout",
     "output_type": "stream",
     "text": [
      "fi:l*e/p\"a?t>h|.t<xt -> file/path.txt\n",
      "\u0000_a*b:c<d>e%f/(g)h+i_0.txt -> _abcde%f/(g)h+i_0.txt\n"
     ]
    }
   ],
   "source": [
    "from pathvalidate import sanitize_filepath\n",
    "\n",
    "fpath = \"fi:l*e/p\\\"a?t>h|.t<xt\"\n",
    "print(\"{} -> {}\".format(fpath, sanitize_filepath(fpath)))\n",
    "\n",
    "fpath = \"\\0_a*b:c<d>e%f/(g)h+i_0.txt\"\n",
    "print(\"{} -> {}\".format(fpath, sanitize_filepath(fpath)))"
   ]
  },
  {
   "cell_type": "code",
   "execution_count": 7,
   "metadata": {},
   "outputs": [
    {
     "name": "stdout",
     "output_type": "stream",
     "text": [
      "\u0000_a*b:c<d>e%f/(g)h+i_0.txt -> abcdefghi0txt\n"
     ]
    }
   ],
   "source": [
    "from pathvalidate import replace_symbol\n",
    "\n",
    "name = \"\\0_a*b:c<d>e%f/(g)h+i_0.txt\"\n",
    "print(\"{} -> {}\".format(name, replace_symbol(name)))"
   ]
  },
  {
   "cell_type": "code",
   "execution_count": null,
   "metadata": {},
   "outputs": [],
   "source": []
  }
 ],
 "metadata": {
  "kernelspec": {
   "display_name": "Python 3",
   "language": "python",
   "name": "python3"
  },
  "language_info": {
   "codemirror_mode": {
    "name": "ipython",
    "version": 3
   },
   "file_extension": ".py",
   "mimetype": "text/x-python",
   "name": "python",
   "nbconvert_exporter": "python",
   "pygments_lexer": "ipython3",
   "version": "3.7.2"
  }
 },
 "nbformat": 4,
 "nbformat_minor": 1
}
