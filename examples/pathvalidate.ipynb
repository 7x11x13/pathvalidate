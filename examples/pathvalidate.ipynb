{
 "cells": [
  {
   "cell_type": "code",
   "execution_count": 1,
   "metadata": {},
   "outputs": [],
   "source": [
    "name = \"\\0_a*b:c<d>e%f/(g)h+i_0.txt\""
   ]
  },
  {
   "cell_type": "code",
   "execution_count": 2,
   "metadata": {},
   "outputs": [
    {
     "name": "stderr",
     "output_type": "stream",
     "text": [
      "invalid char found: invalids=(':', '*', '/', '\"', '?', '>', '|', '<'), value='fi:l*e/p\"a?t>h|.t<xt', reason=INVALID_CHARACTER, target-platform=Windows\n",
      "\n",
      "'COM1' is a reserved name, reason=RESERVED_NAME, target-platform=universal\n",
      "\n"
     ]
    }
   ],
   "source": [
    "import sys\n",
    "from pathvalidate import ValidationError, validate_filename\n",
    "\n",
    "try:\n",
    "    validate_filename(\"fi:l*e/p\\\"a?t>h|.t<xt\")\n",
    "except ValidationError as e:\n",
    "    print(f\"{e}\\n\", file=sys.stderr)\n",
    "\n",
    "try:\n",
    "    validate_filename(\"COM1\")\n",
    "except ValidationError as e:\n",
    "    print(f\"{e}\\n\", file=sys.stderr)\n"
   ]
  },
  {
   "cell_type": "code",
   "execution_count": 3,
   "metadata": {},
   "outputs": [
    {
     "name": "stderr",
     "output_type": "stream",
     "text": [
      "'COM1' is a reserved name, reason=RESERVED_NAME, target-platform=universal\n"
     ]
    }
   ],
   "source": [
    "import sys\n",
    "from pathvalidate import ValidationError, validate_filename\n",
    "\n",
    "try:\n",
    "    validate_filename(\"COM1\")\n",
    "except ValidationError as e:\n",
    "    print(e, file=sys.stderr)"
   ]
  },
  {
   "cell_type": "code",
   "execution_count": 4,
   "metadata": {},
   "outputs": [
    {
     "name": "stderr",
     "output_type": "stream",
     "text": [
      "invalid char found: invalids=(':', '*', '\"', '?', '>', '|', '<'), value='fi:l*e/p\"a?t>h|.t<xt', reason=INVALID_CHARACTER, target-platform=Windows\n"
     ]
    }
   ],
   "source": [
    "import sys\n",
    "from pathvalidate import ValidationError, validate_filepath\n",
    "\n",
    "try:\n",
    "    validate_filepath(\"fi:l*e/p\\\"a?t>h|.t<xt\")\n",
    "except ValidationError as e:\n",
    "    print(e, file=sys.stderr)"
   ]
  },
  {
   "cell_type": "code",
   "execution_count": 5,
   "metadata": {},
   "outputs": [
    {
     "name": "stdout",
     "output_type": "stream",
     "text": [
      "fi:l*e/p\"a?t>h|.t<xt -> filepath.txt\n",
      "\n",
      "\u0000_a*b:c<d>e%f/(g)h+i_0.txt -> _abcde%f(g)h+i_0.txt\n",
      "\n"
     ]
    }
   ],
   "source": [
    "from pathvalidate import sanitize_filename\n",
    "\n",
    "fname = \"fi:l*e/p\\\"a?t>h|.t<xt\"\n",
    "print(f\"{fname} -> {sanitize_filename(fname)}\\n\")\n",
    "\n",
    "fname = \"\\0_a*b:c<d>e%f/(g)h+i_0.txt\"\n",
    "print(f\"{fname} -> {sanitize_filename(fname)}\\n\")"
   ]
  },
  {
   "cell_type": "code",
   "execution_count": 6,
   "metadata": {},
   "outputs": [
    {
     "name": "stdout",
     "output_type": "stream",
     "text": [
      "fi:l*e/p\"a?t>h|.t<xt -> file/path.txt\n",
      "\n",
      "\u0000_a*b:c<d>e%f/(g)h+i_0.txt -> _abcde%f/(g)h+i_0.txt\n",
      "\n"
     ]
    }
   ],
   "source": [
    "from pathvalidate import sanitize_filepath\n",
    "\n",
    "fpath = \"fi:l*e/p\\\"a?t>h|.t<xt\"\n",
    "print(f\"{fpath} -> {sanitize_filepath(fpath)}\\n\")\n",
    "\n",
    "fpath = \"\\0_a*b:c<d>e%f/(g)h+i_0.txt\"\n",
    "print(f\"{fpath} -> {sanitize_filepath(fpath)}\\n\")"
   ]
  },
  {
   "cell_type": "code",
   "execution_count": 7,
   "metadata": {},
   "outputs": [
    {
     "name": "stdout",
     "output_type": "stream",
     "text": [
      "\u0000_a*b:c<d>e%f/(g)h+i_0.txt -> abcdefghi0txt\n"
     ]
    }
   ],
   "source": [
    "from pathvalidate import replace_symbol\n",
    "\n",
    "name = \"\\0_a*b:c<d>e%f/(g)h+i_0.txt\"\n",
    "print(f\"{name} -> {replace_symbol(name)}\")"
   ]
  },
  {
   "cell_type": "code",
   "execution_count": 8,
   "metadata": {},
   "outputs": [
    {
     "name": "stdout",
     "output_type": "stream",
     "text": [
      "is_valid_filename('fi:l*e/p\"a?t>h|.t<xt') return False\n",
      "\n",
      "is_valid_filename('filepath.txt') return True\n",
      "\n"
     ]
    }
   ],
   "source": [
    "from pathvalidate import is_valid_filename, sanitize_filename\n",
    "\n",
    "fname = \"fi:l*e/p\\\"a?t>h|.t<xt\"\n",
    "print(f\"is_valid_filename('{fname}') return {is_valid_filename(fname)}\\n\")\n",
    "\n",
    "sanitized_fname = sanitize_filename(fname)\n",
    "print(f\"is_valid_filename('{sanitized_fname}') return {is_valid_filename(sanitized_fname)}\\n\")"
   ]
  },
  {
   "cell_type": "code",
   "execution_count": 9,
   "metadata": {},
   "outputs": [
    {
     "name": "stdout",
     "output_type": "stream",
     "text": [
      "is_valid_filepath('fi:l*e/p\"a?t>h|.t<xt') return False\n",
      "\n",
      "is_valid_filepath('file/path.txt') return True\n",
      "\n"
     ]
    }
   ],
   "source": [
    "from pathvalidate import is_valid_filepath, sanitize_filepath\n",
    "\n",
    "fpath = \"fi:l*e/p\\\"a?t>h|.t<xt\"\n",
    "print(f\"is_valid_filepath('{fpath}') return {is_valid_filepath(fpath)}\\n\")\n",
    "\n",
    "sanitized_fpath = sanitize_filepath(fpath)\n",
    "print(f\"is_valid_filepath('{sanitized_fpath}') return {is_valid_filepath(sanitized_fpath)}\\n\")"
   ]
  },
  {
   "cell_type": "code",
   "execution_count": null,
   "metadata": {},
   "outputs": [],
   "source": []
  }
 ],
 "metadata": {
  "kernelspec": {
   "display_name": "Python 3",
   "language": "python",
   "name": "python3"
  },
  "language_info": {
   "codemirror_mode": {
    "name": "ipython",
    "version": 3
   },
   "file_extension": ".py",
   "mimetype": "text/x-python",
   "name": "python",
   "nbconvert_exporter": "python",
   "pygments_lexer": "ipython3",
   "version": "3.8.1"
  }
 },
 "nbformat": 4,
 "nbformat_minor": 1
}
