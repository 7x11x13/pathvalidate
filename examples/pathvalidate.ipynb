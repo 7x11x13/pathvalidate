{
 "cells": [
  {
   "cell_type": "code",
   "execution_count": 1,
   "metadata": {
    "collapsed": true
   },
   "outputs": [],
   "source": [
    "import pathvalidate\n",
    "\n",
    "name = \"\\0_a*b:c<d>e%f/(g)h+i_0.txt\""
   ]
  },
  {
   "cell_type": "code",
   "execution_count": 2,
   "metadata": {
    "collapsed": false
   },
   "outputs": [
    {
     "name": "stdout",
     "output_type": "stream",
     "text": [
      "invalid filename!\n"
     ]
    }
   ],
   "source": [
    "try:\n",
    "    pathvalidate.validate_filename(name)\n",
    "except ValueError:\n",
    "    print(\"invalid filename!\")"
   ]
  },
  {
   "cell_type": "code",
   "execution_count": 3,
   "metadata": {
    "collapsed": false
   },
   "outputs": [
    {
     "name": "stdout",
     "output_type": "stream",
     "text": [
      "invalid file path!\n"
     ]
    }
   ],
   "source": [
    "try:\n",
    "    pathvalidate.validate_file_path(name)\n",
    "except ValueError:\n",
    "    print(\"invalid file path!\")"
   ]
  },
  {
   "cell_type": "code",
   "execution_count": 4,
   "metadata": {
    "collapsed": false
   },
   "outputs": [
    {
     "name": "stdout",
     "output_type": "stream",
     "text": [
      "invalid variable name!\n"
     ]
    }
   ],
   "source": [
    "try:\n",
    "    pathvalidate.validate_python_var_name(name)\n",
    "except ValueError:\n",
    "    print(\"invalid variable name!\")"
   ]
  },
  {
   "cell_type": "code",
   "execution_count": 5,
   "metadata": {
    "collapsed": false
   },
   "outputs": [
    {
     "name": "stdout",
     "output_type": "stream",
     "text": [
      "_abcde%f(g)h+i_0.txt\n"
     ]
    }
   ],
   "source": [
    "print(pathvalidate.sanitize_filename(name))"
   ]
  },
  {
   "cell_type": "code",
   "execution_count": 6,
   "metadata": {
    "collapsed": false
   },
   "outputs": [
    {
     "name": "stdout",
     "output_type": "stream",
     "text": [
      "_abcde%f/(g)h+i_0.txt\n"
     ]
    }
   ],
   "source": [
    "print(pathvalidate.sanitize_file_path(name))"
   ]
  },
  {
   "cell_type": "code",
   "execution_count": 7,
   "metadata": {
    "collapsed": false
   },
   "outputs": [
    {
     "name": "stdout",
     "output_type": "stream",
     "text": [
      "abcdefghi_0txt\n"
     ]
    }
   ],
   "source": [
    "print(pathvalidate.sanitize_python_var_name(name))"
   ]
  },
  {
   "cell_type": "code",
   "execution_count": 8,
   "metadata": {
    "collapsed": false
   },
   "outputs": [
    {
     "name": "stdout",
     "output_type": "stream",
     "text": [
      "abcdefghi0txt\n"
     ]
    }
   ],
   "source": [
    "print(pathvalidate.replace_symbol(name))"
   ]
  }
 ],
 "metadata": {
  "kernelspec": {
   "display_name": "Python 2",
   "language": "python",
   "name": "python2"
  },
  "language_info": {
   "codemirror_mode": {
    "name": "ipython",
    "version": 2
   },
   "file_extension": ".py",
   "mimetype": "text/x-python",
   "name": "python",
   "nbconvert_exporter": "python",
   "pygments_lexer": "ipython2",
   "version": "2.7.12"
  }
 },
 "nbformat": 4,
 "nbformat_minor": 0
}
