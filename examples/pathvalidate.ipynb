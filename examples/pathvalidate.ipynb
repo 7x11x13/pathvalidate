{
 "cells": [
  {
   "cell_type": "code",
   "execution_count": 1,
   "metadata": {},
   "outputs": [],
   "source": [
    "import pathvalidate as pv\n",
    "\n",
    "name = \"\\0_a*b:c<d>e%f/(g)h+i_0.txt\""
   ]
  },
  {
   "cell_type": "code",
   "execution_count": 2,
   "metadata": {},
   "outputs": [
    {
     "name": "stdout",
     "output_type": "stream",
     "text": [
      "invalid filename!\n"
     ]
    }
   ],
   "source": [
    "try:\n",
    "    pv.validate_filename(name)\n",
    "except ValueError:\n",
    "    print(\"invalid filename!\")"
   ]
  },
  {
   "cell_type": "code",
   "execution_count": 3,
   "metadata": {},
   "outputs": [
    {
     "name": "stdout",
     "output_type": "stream",
     "text": [
      "invalid file path!\n"
     ]
    }
   ],
   "source": [
    "try:\n",
    "    pv.validate_file_path(name)\n",
    "except ValueError:\n",
    "    print(\"invalid file path!\")"
   ]
  },
  {
   "cell_type": "code",
   "execution_count": 4,
   "metadata": {},
   "outputs": [
    {
     "name": "stdout",
     "output_type": "stream",
     "text": [
      "invalid variable name!\n"
     ]
    }
   ],
   "source": [
    "try:\n",
    "    pv.validate_python_var_name(name)\n",
    "except ValueError:\n",
    "    print(\"invalid variable name!\")"
   ]
  },
  {
   "cell_type": "code",
   "execution_count": 5,
   "metadata": {},
   "outputs": [
    {
     "name": "stdout",
     "output_type": "stream",
     "text": [
      "filepath.txt\n",
      "_abcde%f(g)h+i_0.txt\n"
     ]
    }
   ],
   "source": [
    "print(pv.sanitize_filename(\"fi:l*e/p\\\"a?t>h|.t<xt\"))\n",
    "print(pv.sanitize_filename(name))"
   ]
  },
  {
   "cell_type": "code",
   "execution_count": 6,
   "metadata": {},
   "outputs": [
    {
     "name": "stdout",
     "output_type": "stream",
     "text": [
      "file/path.txt\n",
      "_abcde%f/(g)h+i_0.txt\n"
     ]
    }
   ],
   "source": [
    "print(pv.sanitize_filepath(\"fi:l*e/p\\\"a?t>h|.t<xt\"))\n",
    "print(pv.sanitize_filepath(name))"
   ]
  },
  {
   "cell_type": "code",
   "execution_count": 7,
   "metadata": {},
   "outputs": [
    {
     "name": "stdout",
     "output_type": "stream",
     "text": [
      "abcdefghi_0txt\n"
     ]
    }
   ],
   "source": [
    "print(pv.sanitize_python_var_name(name))"
   ]
  },
  {
   "cell_type": "code",
   "execution_count": 8,
   "metadata": {},
   "outputs": [
    {
     "name": "stdout",
     "output_type": "stream",
     "text": [
      "abcdefghi0txt\n"
     ]
    }
   ],
   "source": [
    "print(pv.replace_symbol(name))"
   ]
  }
 ],
 "metadata": {
  "kernelspec": {
   "display_name": "Python 3",
   "language": "python",
   "name": "python3"
  },
  "language_info": {
   "codemirror_mode": {
    "name": "ipython",
    "version": 3
   },
   "file_extension": ".py",
   "mimetype": "text/x-python",
   "name": "python",
   "nbconvert_exporter": "python",
   "pygments_lexer": "ipython3",
   "version": "3.6.5"
  }
 },
 "nbformat": 4,
 "nbformat_minor": 1
}
